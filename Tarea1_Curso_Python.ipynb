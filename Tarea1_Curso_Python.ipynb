{
  "nbformat": 4,
  "nbformat_minor": 0,
  "metadata": {
    "colab": {
      "name": "Tarea1_Curso_Python.ipynb",
      "provenance": [],
      "collapsed_sections": [],
      "authorship_tag": "ABX9TyM4IKWcBFwvyTGvmqDBBaRE",
      "include_colab_link": true
    },
    "kernelspec": {
      "name": "python3",
      "display_name": "Python 3"
    }
  },
  "cells": [
    {
      "cell_type": "markdown",
      "metadata": {
        "id": "view-in-github",
        "colab_type": "text"
      },
      "source": [
        "<a href=\"https://colab.research.google.com/github/C-E-R-S/Trabajos_AFIF/blob/main/Tarea1_Curso_Python.ipynb\" target=\"_parent\"><img src=\"https://colab.research.google.com/assets/colab-badge.svg\" alt=\"Open In Colab\"/></a>"
      ]
    },
    {
      "cell_type": "code",
      "metadata": {
        "colab": {
          "base_uri": "https://localhost:8080/"
        },
        "id": "gkL2lTJLBAAL",
        "outputId": "f2fee485-f884-4a87-b544-6846bb833d86"
      },
      "source": [
        "#Tarea del dia 1 del curso de Introduccion a Python de AFIF\n",
        "Mensaje = \"Este es un mensaje de ejemplo para mi tarea.\"\n",
        "print(Mensaje, \"Que buen estudiante soy, hice la tarea xd.\")"
      ],
      "execution_count": 2,
      "outputs": [
        {
          "output_type": "stream",
          "text": [
            "Este es un mensaje de ejemplo para mi tarea. Que buen estudiante soy, hice la tarea xd.\n"
          ],
          "name": "stdout"
        }
      ]
    },
    {
      "cell_type": "code",
      "metadata": {
        "colab": {
          "base_uri": "https://localhost:8080/"
        },
        "id": "ip7-HGj4Bphv",
        "outputId": "988ddfe3-8ed8-4da7-a1be-599c7d4b7663"
      },
      "source": [
        "#Ahora vamos a practicar la concatenacion de strings\n",
        "print(\">>>Este pequenio programa sirve para presentarme<<< \\n\")\n",
        "Nombre = input(\"Ingrese su primer nombre: \")\n",
        "Nombre2 = input(\"Ingrese su segundo nombre: \")\n",
        "Apellido = input(\"Ingrese su primer apellido: \")\n",
        "Apellido2 = input(\"Ingrese su segundo apellido: \")\n",
        "\n",
        "print(\"\\n Hola, me llamo \", Nombre, Nombre2, Apellido, Apellido2,\".\")\n",
        "print(\"\\n Eso es todo.\")\n",
        "\n",
        "#Fin del codigo\n"
      ],
      "execution_count": 6,
      "outputs": [
        {
          "output_type": "stream",
          "text": [
            ">>>Este pequenio programa sirve para presentarme<<< \n",
            "\n",
            "Ingrese su primer nombre: Carlos\n",
            "Ingrese su segundo nombre: Eduardo\n",
            "Ingrese su primer apellido: Rodriguez\n",
            "Ingrese su segundo apellido: Saucedo\n",
            "Hola, me llamo  Carlos Eduardo Rodriguez Saucedo .\n",
            "Eso es todo.\n"
          ],
          "name": "stdout"
        }
      ]
    }
  ]
}